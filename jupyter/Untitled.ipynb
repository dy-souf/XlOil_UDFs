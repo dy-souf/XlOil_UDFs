{
 "cells": [
  {
   "cell_type": "code",
   "execution_count": 1,
   "id": "9954e49e-0147-4e29-9bdf-abd84a770b99",
   "metadata": {},
   "outputs": [],
   "source": [
    "import numpy as np"
   ]
  },
  {
   "cell_type": "code",
   "execution_count": 13,
   "id": "ec2622df-18c9-4bfd-8655-7b7266e01c64",
   "metadata": {},
   "outputs": [
    {
     "data": {
      "text/plain": [
       "{(4, 5, 6), (5, 7, 9), (7, 8, 9), (11, 13, 15)}"
      ]
     },
     "execution_count": 13,
     "metadata": {},
     "output_type": "execute_result"
    }
   ],
   "source": [
    "arr1 = [[1, 2, 3], [4, 5, 6], [7, 8, 9]] \n",
    "arr2 = [[1,2, 3], [5, 7, 9], [11, 13, 15]]\n",
    "\n",
    "arr3 = {(1, 2, 3), (4, 5, 6), (7, 8, 9)}\n",
    "arr4 = {(1,2, 3), (5, 7, 9), (11, 13, 15)}\n",
    "\n",
    "arr3^arr4"
   ]
  },
  {
   "cell_type": "code",
   "execution_count": null,
   "id": "16fd57b4-c54e-4a4e-ae4b-789df8346df2",
   "metadata": {},
   "outputs": [],
   "source": []
  },
  {
   "cell_type": "code",
   "execution_count": null,
   "id": "a916b4e0-1a58-4074-99fb-afa6b2bac29a",
   "metadata": {},
   "outputs": [],
   "source": []
  },
  {
   "cell_type": "code",
   "execution_count": null,
   "id": "1ea61567-c3a6-4bf9-9d80-5c81b15cae97",
   "metadata": {},
   "outputs": [],
   "source": []
  },
  {
   "cell_type": "code",
   "execution_count": null,
   "id": "eba4a722-7541-45d4-a420-a7563aa21d25",
   "metadata": {},
   "outputs": [],
   "source": []
  },
  {
   "cell_type": "code",
   "execution_count": null,
   "id": "620642f1-9cdc-4cf8-9a03-4778e2704655",
   "metadata": {},
   "outputs": [],
   "source": []
  },
  {
   "cell_type": "code",
   "execution_count": null,
   "id": "52475e55-623d-44f4-8c19-be3fe5b61ecd",
   "metadata": {},
   "outputs": [],
   "source": []
  },
  {
   "cell_type": "code",
   "execution_count": null,
   "id": "6416a38e-78c6-48f3-b9e8-7ef3e63067fa",
   "metadata": {},
   "outputs": [],
   "source": []
  },
  {
   "cell_type": "code",
   "execution_count": null,
   "id": "04c1bbe1-15b0-4154-8fd4-33e64baa4ac2",
   "metadata": {},
   "outputs": [],
   "source": []
  }
 ],
 "metadata": {
  "kernelspec": {
   "display_name": "Python 3 (ipykernel)",
   "language": "python",
   "name": "python3"
  },
  "language_info": {
   "codemirror_mode": {
    "name": "ipython",
    "version": 3
   },
   "file_extension": ".py",
   "mimetype": "text/x-python",
   "name": "python",
   "nbconvert_exporter": "python",
   "pygments_lexer": "ipython3",
   "version": "3.9.19"
  }
 },
 "nbformat": 4,
 "nbformat_minor": 5
}
